{
 "cells": [
  {
   "cell_type": "markdown",
   "metadata": {},
   "source": [
    "split the dataset into 3 subsets for training, validation, testing"
   ]
  },
  {
   "cell_type": "code",
   "execution_count": 16,
   "metadata": {},
   "outputs": [],
   "source": [
    "import pandas as pd\n",
    "from sklearn.model_selection import train_test_split\n",
    "\n",
    "# global vars\n",
    "clean_data_path = \"./dataset/dataset.csv\"\n",
    "target_column = \"RET\"\n",
    "\n",
    "dataset = pd.read_csv(clean_data_path)\n",
    "\n",
    "# split the dataset into features and target\n",
    "features = dataset.drop(target_column, axis=1)\n",
    "target = dataset[target_column]\n",
    "\n",
    "# split the dataset into train, valid, test\n",
    "train_features, temp_features, train_labels, temp_labels = train_test_split(features, target, test_size=0.3, random_state=42)\n",
    "valid_features, test_features, valid_labels, test_labels = train_test_split(temp_features, temp_labels, test_size=0.5, random_state=42)\n"
   ]
  }
 ],
 "metadata": {
  "language_info": {
   "name": "python"
  }
 },
 "nbformat": 4,
 "nbformat_minor": 2
}
