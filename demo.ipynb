{
 "cells": [
  {
   "cell_type": "markdown",
   "metadata": {},
   "source": [
    "split the dataset into 3 subsets for training, validation, testing"
   ]
  },
  {
   "cell_type": "code",
   "execution_count": 3,
   "metadata": {},
   "outputs": [
    {
     "name": "stdout",
     "output_type": "stream",
     "text": [
      "{} 2018-01-01 ./models/OLS ./results/OLS\n",
      "test start time: 2020-01-01\n",
      "\n",
      "R2 score: -157.01%\n",
      "MSE score: 0.049\n"
     ]
    }
   ],
   "source": [
    "import pandas as pd\n",
    "import argparse\n",
    "import sys\n",
    "\n",
    "from sklearn.linear_model import LinearRegression\n",
    "from utils import train_valid_test_split, validation, evaluate\n",
    "\n",
    "sys.argv = [\"demo.py\", \"--train_start_date\", \"2018-01-01\", \"--valid_start_date\", \"2019-01-01\", \"--test_start_date\", \"2020-01-01\",\n",
    "            \"--test_end_date\", \"2020-12-31\"]\n",
    "\n",
    "# init for argparse\n",
    "parser = argparse.ArgumentParser(description='date for splitting')\n",
    "parser.add_argument('--train_start_date', type=str, help='train start date')\n",
    "parser.add_argument('--valid_start_date', type=str, help='valid start date')\n",
    "parser.add_argument('--test_start_date', type=str, help='test start date')\n",
    "parser.add_argument('--test_end_date', type=str, help='test end date')\n",
    "\n",
    "# global vars\n",
    "data_path = \"./dataset/top_dataset.csv\"\n",
    "base_model_save_path = \"./models/OLS\"\n",
    "base_result_save_path = \"./results/OLS\"\n",
    "\n",
    "start_date = \"1957-01-01\"  # start date\n",
    "end_date = \"2020-12-31\"  # end date\n",
    "\n",
    "\n",
    "# parse args\n",
    "args = parser.parse_args()\n",
    "assert (start_date <= args.train_start_date < args.valid_start_date <\n",
    "        args.test_start_date < args.test_end_date <= end_date)\n",
    "\n",
    "dataset = pd.read_csv(data_path)\n",
    "\n",
    "# split the dataset into train, valid, test\n",
    "train_features, train_target, valid_features, valid_target, test_features, test_target = \\\n",
    "    train_valid_test_split(dataset, args.train_start_date,\n",
    "                           args.valid_start_date, args.test_start_date, args.test_end_date)\n",
    "del(dataset)\n",
    "\n",
    "# train\n",
    "OLS = LinearRegression\n",
    "\n",
    "# validation\n",
    "best_model =validation(OLS, {}, train_features, train_target, valid_features, valid_target,\n",
    "           args.train_start_date, base_model_save_path, base_result_save_path)\n",
    "# evaluate\n",
    "pred = best_model.predict(test_features)\n",
    "print(f'test start time: {args.test_start_date}')\n",
    "evaluate(test_target, pred)\n",
    "print('--------------------')"
   ]
  }
 ],
 "metadata": {
  "kernelspec": {
   "display_name": "math5470",
   "language": "python",
   "name": "python3"
  },
  "language_info": {
   "codemirror_mode": {
    "name": "ipython",
    "version": 3
   },
   "file_extension": ".py",
   "mimetype": "text/x-python",
   "name": "python",
   "nbconvert_exporter": "python",
   "pygments_lexer": "ipython3",
   "version": "3.12.3"
  }
 },
 "nbformat": 4,
 "nbformat_minor": 2
}
