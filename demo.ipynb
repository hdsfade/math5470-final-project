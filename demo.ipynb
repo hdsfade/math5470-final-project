{
 "cells": [
  {
   "cell_type": "markdown",
   "metadata": {},
   "source": [
    "split the dataset into 3 subsets for training, validation, testing"
   ]
  },
  {
   "cell_type": "code",
   "execution_count": null,
   "metadata": {},
   "outputs": [],
   "source": [
    "import pandas as pd\n",
    "from sklearn.model_selection import train_test_split\n",
    "import argparse\n",
    "import sys\n",
    "\n",
    "\n",
    "sys.argv = [\"demo.py\", \"--train_start_date\", \"20100101\",\"--valid_start_date\", \"20141231\", \"--test_start_date\", \"20191231\"]\n",
    "# init for argparse\n",
    "parser = argparse.ArgumentParser(description='date for splitting')\n",
    "parser.add_argument('--train_start_date', type=int, help='train start date')\n",
    "parser.add_argument('--valid_start_date', type=int, help='valid start date')\n",
    "parser.add_argument('--test_start_date', type=int, help='test start date')\n",
    "\n",
    "# global vars\n",
    "data_path = \"./dataset/full_dataset.csv\"\n",
    "target_column = \"RET\"\n",
    "start_date = 19570101  # start date\n",
    "end_date = 20201231  # end date\n",
    "np.datetime64\n",
    "\n",
    "# parse args\n",
    "args = parser.parse_args()\n",
    "\n",
    "\n",
    "# split data, according to date\n",
    "def train_valid_test_split(features, target, train_start_date, valid_start_date, test_start_date, end_date):\n",
    "    train_features = features.loc[(features['DATE'] >= train_start_date) & (features['DATE'] < valid_start_date)].reset_index(drop=True)\n",
    "    valid_features = features.loc[(features['DATE'] >= valid_start_date) & (features['DATE'] < test_start_date)].reset_index(drop=True)\n",
    "    test_features = features.loc[(features['DATE'] >= test_start_date) & (features['DATE'] <= end_date)].reset_index(drop=True)\n",
    "    train_target = target.loc[(target['DATE'] >= train_start_date) & (target['DATE'] < valid_start_date)].reset_index(drop=True)\n",
    "    valid_target = target.loc[(target['DATE'] >= valid_start_date) & (target['DATE'] < test_start_date)].reset_index(drop=True)\n",
    "    test_target = target.loc[(target['DATE'] >= test_start_date) & (target['DATE'] <= end_date)].reset_index(drop=True)\n",
    "    return train_features, train_target, valid_features, valid_target, test_features, test_target, \n",
    "\n",
    "dataset = pd.read_csv(data_path)\n",
    "\n",
    "# split the dataset into features and target\n",
    "features = dataset.drop(target_column, axis=1)\n",
    "target = dataset[target_column]\n",
    "\n",
    "print(args.train_start_date)\n",
    "split the dataset into train, valid, test\n",
    "train_features, train_target, valid_features, valid_target,test_features, test_target = \\\n",
    "    # train_valid_test_split(features, target, args.train_start_date, args.valid_start_date, args.test_start_date, end_date)\n"
   ]
  }
 ],
 "metadata": {
  "language_info": {
   "name": "python"
  }
 },
 "nbformat": 4,
 "nbformat_minor": 2
}
