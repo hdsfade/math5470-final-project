{
 "cells": [
  {
   "cell_type": "markdown",
   "metadata": {},
   "source": [
    "split the dataset into 3 subsets for training, validation, testing"
   ]
  },
  {
   "cell_type": "code",
   "execution_count": 1,
   "metadata": {},
   "outputs": [
    {
     "name": "stdout",
     "output_type": "stream",
     "text": [
      "{} 2018-01-01 ./models/OLS ./results/OLS\n"
     ]
    },
    {
     "ename": "FileNotFoundError",
     "evalue": "[Errno 2] No such file or directory: './results/OLS/2018-01-01'",
     "output_type": "error",
     "traceback": [
      "\u001b[0;31m---------------------------------------------------------------------------\u001b[0m",
      "\u001b[0;31mFileNotFoundError\u001b[0m                         Traceback (most recent call last)",
      "Cell \u001b[0;32mIn[1], line 44\u001b[0m\n\u001b[1;32m     41\u001b[0m OLS \u001b[38;5;241m=\u001b[39m LinearRegression\n\u001b[1;32m     43\u001b[0m \u001b[38;5;66;03m# validation\u001b[39;00m\n\u001b[0;32m---> 44\u001b[0m \u001b[43mvalidation\u001b[49m\u001b[43m(\u001b[49m\u001b[43mOLS\u001b[49m\u001b[43m,\u001b[49m\u001b[43m \u001b[49m\u001b[43m{\u001b[49m\u001b[43m}\u001b[49m\u001b[43m,\u001b[49m\u001b[43m \u001b[49m\u001b[43mtrain_features\u001b[49m\u001b[43m,\u001b[49m\u001b[43m \u001b[49m\u001b[43mtrain_target\u001b[49m\u001b[43m,\u001b[49m\u001b[43m \u001b[49m\u001b[43mvalid_features\u001b[49m\u001b[43m,\u001b[49m\u001b[43m \u001b[49m\u001b[43mvalid_target\u001b[49m\u001b[43m,\u001b[49m\n\u001b[1;32m     45\u001b[0m \u001b[43m           \u001b[49m\u001b[43margs\u001b[49m\u001b[38;5;241;43m.\u001b[39;49m\u001b[43mtrain_start_date\u001b[49m\u001b[43m,\u001b[49m\u001b[43m \u001b[49m\u001b[43mbase_model_save_path\u001b[49m\u001b[43m,\u001b[49m\u001b[43m \u001b[49m\u001b[43mbase_result_save_path\u001b[49m\u001b[43m)\u001b[49m\n\u001b[1;32m     46\u001b[0m \u001b[38;5;66;03m# evaluate\u001b[39;00m\n",
      "File \u001b[0;32m~/Study/ust/courses/math5470/math5470-final-project/utils.py:86\u001b[0m, in \u001b[0;36mvalidation\u001b[0;34m(model, sup_pars, X_trn, y_trn, X_vld, y_vld, train_start_date, base_model_save_path, base_result_save_path, is_nn)\u001b[0m\n\u001b[1;32m     84\u001b[0m \u001b[38;5;66;03m# last line is best super params and best r2 score\u001b[39;00m\n\u001b[1;32m     85\u001b[0m output_raws\u001b[38;5;241m.\u001b[39mappend([best_sup_par, \u001b[38;5;124mf\u001b[39m\u001b[38;5;124m'\u001b[39m\u001b[38;5;132;01m{\u001b[39;00mbest_r2s\u001b[38;5;241m*\u001b[39m\u001b[38;5;241m100\u001b[39m\u001b[38;5;132;01m:\u001b[39;00m\u001b[38;5;124m.5f\u001b[39m\u001b[38;5;132;01m}\u001b[39;00m\u001b[38;5;124m%\u001b[39m\u001b[38;5;124m'\u001b[39m])\n\u001b[0;32m---> 86\u001b[0m \u001b[38;5;28;01mwith\u001b[39;00m \u001b[38;5;28;43mopen\u001b[39;49m\u001b[43m(\u001b[49m\u001b[43mresult_save_path\u001b[49m\u001b[43m,\u001b[49m\u001b[43m \u001b[49m\u001b[38;5;124;43m'\u001b[39;49m\u001b[38;5;124;43mw\u001b[39;49m\u001b[38;5;124;43m'\u001b[39;49m\u001b[43m,\u001b[49m\u001b[43m \u001b[49m\u001b[43mnewline\u001b[49m\u001b[38;5;241;43m=\u001b[39;49m\u001b[38;5;124;43m'\u001b[39;49m\u001b[38;5;124;43m'\u001b[39;49m\u001b[43m)\u001b[49m \u001b[38;5;28;01mas\u001b[39;00m csvfile:\n\u001b[1;32m     87\u001b[0m     writer \u001b[38;5;241m=\u001b[39m csv\u001b[38;5;241m.\u001b[39mwriter(csvfile)\n\u001b[1;32m     88\u001b[0m     writer\u001b[38;5;241m.\u001b[39mwriterow([\u001b[38;5;124m'\u001b[39m\u001b[38;5;124msuper parameters\u001b[39m\u001b[38;5;124m'\u001b[39m, \u001b[38;5;124m'\u001b[39m\u001b[38;5;124mr2 score\u001b[39m\u001b[38;5;124m'\u001b[39m])\n",
      "\u001b[0;31mFileNotFoundError\u001b[0m: [Errno 2] No such file or directory: './results/OLS/2018-01-01'"
     ]
    }
   ],
   "source": [
    "import pandas as pd\n",
    "import argparse\n",
    "import sys\n",
    "\n",
    "from sklearn.linear_model import LinearRegression\n",
    "from utils import train_valid_test_split, validation\n",
    "\n",
    "sys.argv = [\"demo.py\", \"--train_start_date\", \"2018-01-01\", \"--valid_start_date\", \"2019-01-01\", \"--test_start_date\", \"2020-01-01\",\n",
    "            \"--test_end_date\", \"2020-12-31\"]\n",
    "\n",
    "# init for argparse\n",
    "parser = argparse.ArgumentParser(description='date for splitting')\n",
    "parser.add_argument('--train_start_date', type=str, help='train start date')\n",
    "parser.add_argument('--valid_start_date', type=str, help='valid start date')\n",
    "parser.add_argument('--test_start_date', type=str, help='test start date')\n",
    "parser.add_argument('--test_end_date', type=str, help='test end date')\n",
    "\n",
    "# global vars\n",
    "data_path = \"./dataset/top_dataset.csv\"\n",
    "base_model_save_path = \"./models/OLS\"\n",
    "base_result_save_path = \"./results/OLS\"\n",
    "\n",
    "start_date = \"1957-01-01\"  # start date\n",
    "end_date = \"2020-12-31\"  # end date\n",
    "\n",
    "\n",
    "# parse args\n",
    "args = parser.parse_args()\n",
    "assert (start_date <= args.train_start_date < args.valid_start_date <\n",
    "        args.test_start_date < args.test_end_date <= end_date)\n",
    "\n",
    "dataset = pd.read_csv(data_path)\n",
    "\n",
    "# split the dataset into train, valid, test\n",
    "train_features, train_target, valid_features, valid_target, test_features, test_target = \\\n",
    "    train_valid_test_split(dataset, args.train_start_date,\n",
    "                           args.valid_start_date, args.test_start_date, args.test_end_date)\n",
    "del(dataset)\n",
    "\n",
    "# train\n",
    "OLS = LinearRegression\n",
    "\n",
    "# validation\n",
    "validation(OLS, {}, train_features, train_target, valid_features, valid_target,\n",
    "           args.train_start_date, base_model_save_path, base_result_save_path)\n",
    "# evaluate"
   ]
  }
 ],
 "metadata": {
  "kernelspec": {
   "display_name": "math5470",
   "language": "python",
   "name": "python3"
  },
  "language_info": {
   "codemirror_mode": {
    "name": "ipython",
    "version": 3
   },
   "file_extension": ".py",
   "mimetype": "text/x-python",
   "name": "python",
   "nbconvert_exporter": "python",
   "pygments_lexer": "ipython3",
   "version": "3.12.3"
  }
 },
 "nbformat": 4,
 "nbformat_minor": 2
}
